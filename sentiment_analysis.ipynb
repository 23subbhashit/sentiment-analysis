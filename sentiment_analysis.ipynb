{
  "nbformat": 4,
  "nbformat_minor": 0,
  "metadata": {
    "colab": {
      "name": "sentiment analysis",
      "provenance": [],
      "include_colab_link": true
    },
    "kernelspec": {
      "name": "python3",
      "display_name": "Python 3"
    }
  },
  "cells": [
    {
      "cell_type": "markdown",
      "metadata": {
        "id": "view-in-github",
        "colab_type": "text"
      },
      "source": [
        "<a href=\"https://colab.research.google.com/github/23subbhashit/sentiment-analysis/blob/master/sentiment_analysis.ipynb\" target=\"_parent\"><img src=\"https://colab.research.google.com/assets/colab-badge.svg\" alt=\"Open In Colab\"/></a>"
      ]
    },
    {
      "cell_type": "code",
      "metadata": {
        "id": "hvcgUCu_FaDC",
        "colab_type": "code",
        "colab": {}
      },
      "source": [
        "import nltk\n"
      ],
      "execution_count": 0,
      "outputs": []
    },
    {
      "cell_type": "code",
      "metadata": {
        "id": "XbdazcwjG-6L",
        "colab_type": "code",
        "colab": {}
      },
      "source": [
        "nltk.download(\"all\")"
      ],
      "execution_count": 0,
      "outputs": []
    },
    {
      "cell_type": "code",
      "metadata": {
        "id": "25aBGZVAIGB6",
        "colab_type": "code",
        "outputId": "1af53545-3bb8-44f0-d1f4-f396b14d4e4b",
        "colab": {
          "resources": {
            "http://localhost:8080/nbextensions/google.colab/files.js": {
              "data": "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",
              "ok": true,
              "headers": [
                [
                  "content-type",
                  "application/javascript"
                ]
              ],
              "status": 200,
              "status_text": ""
            }
          },
          "base_uri": "https://localhost:8080/",
          "height": 73
        }
      },
      "source": [
        "#uploading files\n",
        "from google.colab import files\n",
        "file=files.upload()"
      ],
      "execution_count": 3,
      "outputs": [
        {
          "output_type": "display_data",
          "data": {
            "text/html": [
              "\n",
              "     <input type=\"file\" id=\"files-fdcdc22a-28f7-4a8d-80b1-2ae05ba6509b\" name=\"files[]\" multiple disabled />\n",
              "     <output id=\"result-fdcdc22a-28f7-4a8d-80b1-2ae05ba6509b\">\n",
              "      Upload widget is only available when the cell has been executed in the\n",
              "      current browser session. Please rerun this cell to enable.\n",
              "      </output>\n",
              "      <script src=\"/nbextensions/google.colab/files.js\"></script> "
            ],
            "text/plain": [
              "<IPython.core.display.HTML object>"
            ]
          },
          "metadata": {
            "tags": []
          }
        },
        {
          "output_type": "stream",
          "text": [
            "Saving demonetization-tweets.csv to demonetization-tweets.csv\n"
          ],
          "name": "stdout"
        }
      ]
    },
    {
      "cell_type": "code",
      "metadata": {
        "id": "ighcevWZ-BTU",
        "colab_type": "code",
        "outputId": "c6eaa358-64e3-4967-ad18-e1fd0fee584c",
        "colab": {
          "base_uri": "https://localhost:8080/",
          "height": 291
        }
      },
      "source": [
        "#seeing the content\n",
        "import pandas as pd\n",
        "data=pd.read_csv(\"demonetization-tweets.csv\",encoding=\"iso-8859-1\")\n",
        "data.head(3)"
      ],
      "execution_count": 35,
      "outputs": [
        {
          "output_type": "execute_result",
          "data": {
            "text/html": [
              "<div>\n",
              "<style scoped>\n",
              "    .dataframe tbody tr th:only-of-type {\n",
              "        vertical-align: middle;\n",
              "    }\n",
              "\n",
              "    .dataframe tbody tr th {\n",
              "        vertical-align: top;\n",
              "    }\n",
              "\n",
              "    .dataframe thead th {\n",
              "        text-align: right;\n",
              "    }\n",
              "</style>\n",
              "<table border=\"1\" class=\"dataframe\">\n",
              "  <thead>\n",
              "    <tr style=\"text-align: right;\">\n",
              "      <th></th>\n",
              "      <th>Unnamed: 0</th>\n",
              "      <th>text</th>\n",
              "      <th>favorited</th>\n",
              "      <th>favoriteCount</th>\n",
              "      <th>replyToSN</th>\n",
              "      <th>created</th>\n",
              "      <th>truncated</th>\n",
              "      <th>replyToSID</th>\n",
              "      <th>id</th>\n",
              "      <th>replyToUID</th>\n",
              "      <th>statusSource</th>\n",
              "      <th>screenName</th>\n",
              "      <th>retweetCount</th>\n",
              "      <th>isRetweet</th>\n",
              "      <th>retweeted</th>\n",
              "    </tr>\n",
              "  </thead>\n",
              "  <tbody>\n",
              "    <tr>\n",
              "      <th>0</th>\n",
              "      <td>1</td>\n",
              "      <td>RT @rssurjewala: Critical question: Was PayTM ...</td>\n",
              "      <td>False</td>\n",
              "      <td>0</td>\n",
              "      <td>NaN</td>\n",
              "      <td>2016-11-23 18:40:30</td>\n",
              "      <td>False</td>\n",
              "      <td>NaN</td>\n",
              "      <td>801495656976318464</td>\n",
              "      <td>NaN</td>\n",
              "      <td>&lt;a href=\"http://twitter.com/download/android\" ...</td>\n",
              "      <td>HASHTAGFARZIWAL</td>\n",
              "      <td>331</td>\n",
              "      <td>True</td>\n",
              "      <td>False</td>\n",
              "    </tr>\n",
              "    <tr>\n",
              "      <th>1</th>\n",
              "      <td>2</td>\n",
              "      <td>RT @Hemant_80: Did you vote on #Demonetization...</td>\n",
              "      <td>False</td>\n",
              "      <td>0</td>\n",
              "      <td>NaN</td>\n",
              "      <td>2016-11-23 18:40:29</td>\n",
              "      <td>False</td>\n",
              "      <td>NaN</td>\n",
              "      <td>801495654778413057</td>\n",
              "      <td>NaN</td>\n",
              "      <td>&lt;a href=\"http://twitter.com/download/android\" ...</td>\n",
              "      <td>PRAMODKAUSHIK9</td>\n",
              "      <td>66</td>\n",
              "      <td>True</td>\n",
              "      <td>False</td>\n",
              "    </tr>\n",
              "    <tr>\n",
              "      <th>2</th>\n",
              "      <td>3</td>\n",
              "      <td>RT @roshankar: Former FinSec, RBI Dy Governor,...</td>\n",
              "      <td>False</td>\n",
              "      <td>0</td>\n",
              "      <td>NaN</td>\n",
              "      <td>2016-11-23 18:40:03</td>\n",
              "      <td>False</td>\n",
              "      <td>NaN</td>\n",
              "      <td>801495544266821632</td>\n",
              "      <td>NaN</td>\n",
              "      <td>&lt;a href=\"http://twitter.com/download/android\" ...</td>\n",
              "      <td>rahulja13034944</td>\n",
              "      <td>12</td>\n",
              "      <td>True</td>\n",
              "      <td>False</td>\n",
              "    </tr>\n",
              "  </tbody>\n",
              "</table>\n",
              "</div>"
            ],
            "text/plain": [
              "   Unnamed: 0  ... retweeted\n",
              "0           1  ...     False\n",
              "1           2  ...     False\n",
              "2           3  ...     False\n",
              "\n",
              "[3 rows x 15 columns]"
            ]
          },
          "metadata": {
            "tags": []
          },
          "execution_count": 35
        }
      ]
    },
    {
      "cell_type": "code",
      "metadata": {
        "id": "BMrtk8h60uzA",
        "colab_type": "code",
        "outputId": "1939e849-86f4-4445-9dbc-b9a582a91279",
        "colab": {
          "base_uri": "https://localhost:8080/",
          "height": 350
        }
      },
      "source": [
        "#gathering information\n",
        "data.info()"
      ],
      "execution_count": 5,
      "outputs": [
        {
          "output_type": "stream",
          "text": [
            "<class 'pandas.core.frame.DataFrame'>\n",
            "RangeIndex: 8000 entries, 0 to 7999\n",
            "Data columns (total 15 columns):\n",
            "Unnamed: 0       8000 non-null int64\n",
            "text             8000 non-null object\n",
            "favorited        8000 non-null bool\n",
            "favoriteCount    8000 non-null int64\n",
            "replyToSN        316 non-null object\n",
            "created          8000 non-null object\n",
            "truncated        8000 non-null bool\n",
            "replyToSID       226 non-null float64\n",
            "id               8000 non-null int64\n",
            "replyToUID       316 non-null float64\n",
            "statusSource     8000 non-null object\n",
            "screenName       8000 non-null object\n",
            "retweetCount     8000 non-null int64\n",
            "isRetweet        8000 non-null bool\n",
            "retweeted        8000 non-null bool\n",
            "dtypes: bool(4), float64(2), int64(4), object(5)\n",
            "memory usage: 718.8+ KB\n"
          ],
          "name": "stdout"
        }
      ]
    },
    {
      "cell_type": "code",
      "metadata": {
        "id": "MCIOmfYl0zSz",
        "colab_type": "code",
        "outputId": "9a2be068-a573-4b75-a17f-fd42766e4c72",
        "colab": {
          "base_uri": "https://localhost:8080/",
          "height": 287
        }
      },
      "source": [
        "data.describe()"
      ],
      "execution_count": 0,
      "outputs": [
        {
          "output_type": "execute_result",
          "data": {
            "text/html": [
              "<div>\n",
              "<style scoped>\n",
              "    .dataframe tbody tr th:only-of-type {\n",
              "        vertical-align: middle;\n",
              "    }\n",
              "\n",
              "    .dataframe tbody tr th {\n",
              "        vertical-align: top;\n",
              "    }\n",
              "\n",
              "    .dataframe thead th {\n",
              "        text-align: right;\n",
              "    }\n",
              "</style>\n",
              "<table border=\"1\" class=\"dataframe\">\n",
              "  <thead>\n",
              "    <tr style=\"text-align: right;\">\n",
              "      <th></th>\n",
              "      <th>Unnamed: 0</th>\n",
              "      <th>favoriteCount</th>\n",
              "      <th>replyToSID</th>\n",
              "      <th>id</th>\n",
              "      <th>replyToUID</th>\n",
              "      <th>retweetCount</th>\n",
              "    </tr>\n",
              "  </thead>\n",
              "  <tbody>\n",
              "    <tr>\n",
              "      <th>count</th>\n",
              "      <td>8000.00000</td>\n",
              "      <td>8000.000000</td>\n",
              "      <td>2.260000e+02</td>\n",
              "      <td>8.000000e+03</td>\n",
              "      <td>3.160000e+02</td>\n",
              "      <td>8000.000000</td>\n",
              "    </tr>\n",
              "    <tr>\n",
              "      <th>mean</th>\n",
              "      <td>4000.50000</td>\n",
              "      <td>0.718125</td>\n",
              "      <td>8.004072e+17</td>\n",
              "      <td>8.012678e+17</td>\n",
              "      <td>2.129493e+16</td>\n",
              "      <td>167.263250</td>\n",
              "    </tr>\n",
              "    <tr>\n",
              "      <th>std</th>\n",
              "      <td>2309.54541</td>\n",
              "      <td>8.642700</td>\n",
              "      <td>1.037435e+16</td>\n",
              "      <td>1.497106e+14</td>\n",
              "      <td>1.247117e+17</td>\n",
              "      <td>272.506961</td>\n",
              "    </tr>\n",
              "    <tr>\n",
              "      <th>min</th>\n",
              "      <td>1.00000</td>\n",
              "      <td>0.000000</td>\n",
              "      <td>6.458401e+17</td>\n",
              "      <td>8.010168e+17</td>\n",
              "      <td>2.467791e+06</td>\n",
              "      <td>0.000000</td>\n",
              "    </tr>\n",
              "    <tr>\n",
              "      <th>25%</th>\n",
              "      <td>2000.75000</td>\n",
              "      <td>0.000000</td>\n",
              "      <td>8.010537e+17</td>\n",
              "      <td>8.011060e+17</td>\n",
              "      <td>3.583478e+07</td>\n",
              "      <td>4.000000</td>\n",
              "    </tr>\n",
              "    <tr>\n",
              "      <th>50%</th>\n",
              "      <td>4000.50000</td>\n",
              "      <td>0.000000</td>\n",
              "      <td>8.012634e+17</td>\n",
              "      <td>8.013115e+17</td>\n",
              "      <td>1.434091e+08</td>\n",
              "      <td>41.000000</td>\n",
              "    </tr>\n",
              "    <tr>\n",
              "      <th>75%</th>\n",
              "      <td>6000.25000</td>\n",
              "      <td>0.000000</td>\n",
              "      <td>8.013498e+17</td>\n",
              "      <td>8.013872e+17</td>\n",
              "      <td>1.206909e+09</td>\n",
              "      <td>221.000000</td>\n",
              "    </tr>\n",
              "    <tr>\n",
              "      <th>max</th>\n",
              "      <td>8000.00000</td>\n",
              "      <td>341.000000</td>\n",
              "      <td>8.014842e+17</td>\n",
              "      <td>8.014957e+17</td>\n",
              "      <td>8.010902e+17</td>\n",
              "      <td>1944.000000</td>\n",
              "    </tr>\n",
              "  </tbody>\n",
              "</table>\n",
              "</div>"
            ],
            "text/plain": [
              "       Unnamed: 0  favoriteCount  ...    replyToUID  retweetCount\n",
              "count  8000.00000    8000.000000  ...  3.160000e+02   8000.000000\n",
              "mean   4000.50000       0.718125  ...  2.129493e+16    167.263250\n",
              "std    2309.54541       8.642700  ...  1.247117e+17    272.506961\n",
              "min       1.00000       0.000000  ...  2.467791e+06      0.000000\n",
              "25%    2000.75000       0.000000  ...  3.583478e+07      4.000000\n",
              "50%    4000.50000       0.000000  ...  1.434091e+08     41.000000\n",
              "75%    6000.25000       0.000000  ...  1.206909e+09    221.000000\n",
              "max    8000.00000     341.000000  ...  8.010902e+17   1944.000000\n",
              "\n",
              "[8 rows x 6 columns]"
            ]
          },
          "metadata": {
            "tags": []
          },
          "execution_count": 6
        }
      ]
    },
    {
      "cell_type": "code",
      "metadata": {
        "id": "HKs_WLrE1DkL",
        "colab_type": "code",
        "outputId": "c7a2e547-3a8c-459c-dc83-9a553fe69079",
        "colab": {
          "base_uri": "https://localhost:8080/",
          "height": 1000
        }
      },
      "source": [
        "data[\"text\"].value_counts()"
      ],
      "execution_count": 16,
      "outputs": [
        {
          "output_type": "execute_result",
          "data": {
            "text/plain": [
              "RT @gauravcsawant: Rs 40 lakh looted from a bank in Kishtwar in J&amp;K. Third such incident since #demonetization. That's how terrorists have\n",
              "                                                                                                                                                    541\n",
              "RT @DrKumarVishwas: And the Oscar goes to \"Mr.<U+092D><U+093E><U+0935><U+0941><U+0915>\" <ed><U+00A0><U+00BD><ed><U+00B8><U+00A9><ed><U+00A0><U+00BD><ed><U+00B8><U+00A5><ed><U+00A0><U+00BD><ed><U+00B8><U+00A2><ed><U+00A0><U+00BD><ed><U+00B8><U+00AD>#demonetization https://t.co/ObQrhlNSL6    350\n",
              "RT @rssurjewala: Critical question: Was PayTM informed about #Demonetization edict by PM? It's clearly fishy and requires full disclosure &amp;\n",
              "                                                                                                                                                   276\n",
              "RT @ModiBharosa: Putting Nation over Party Politics #nitishkumar supports PM @narendramodi on #Demonetization https://t.co/UodwXdPMmG                                                                                                                                                              253\n",
              "RT @ModiBharosa: Huge support for PM @narendramodi s #demonetization Move Across the Nation \\r\\n80-86% people back demonetization: C-voter su\n",
              "                                                                                                                                                    246\n",
              "RT @ashu3page: Man ends life over fund shortage ahead of daughters wedding in Gujarat. #Demonetization \\r\\nhttps://t.co/DGAI5cf05y \\r\\nhttps://t\n",
              "                                                                                                                                                 119\n",
              "RT @Joydas: Question in Narendra Modi App where PM is taking feedback if people support his #DeMonetization strategy https://t.co/pYgK8Rmg7r                                                                                                                                                       113\n",
              "RT @ippatel: Retaining all seats of LS and state in Byelection by BJP has proved the people's support on #DeMonetization. It should be abov\n",
              "                                                                                                                                                       110\n",
              "RT @Joydeep_911: Calling all Nationalists to join...\\r\\nWalk for #CorruptionFreeIndia and spread the benefits of #Demonetization among the mas\n",
              "                                                                                                                                                    102\n",
              "RT @PIB_India: Watch briefing on #Demonetization by DEA Secy @DasShaktikanta this morning here:\\r\\nhttps://t.co/TDj2A6uO5u                                                                                                                                                                          94\n",
              "RT @Atheist_Krishna: BEFORE and AFTER Gandhi ji heard they are standing there against #Demonetization\\r\\n. https://t.co/9NheK63TPg                                                                                                                                                                  90\n",
              "RT @MIB_India: #Demonetization: Announcements by @FinMinIndia @DasShaktikanta https://t.co/heTEYUM0ch                                                                                                                                                                                               79\n",
              "RT @kanimozhi: India will get windfall profit of whooping 4 Lakh crores in 30 days due to #demonetization Why people like AK Pappu &amp; Mamata\n",
              "                                                                                                                                                    76\n",
              "RT @DrGPradhan: 8\\r\\n\\r\\nThis tweet of @minimathur BIBI explains why she is having a prob with #demonetization ..In first part she says she can't\n",
              "                                                                                                                                                  71\n",
              "RT @ShashiTharoor: Joined the line of Opposition MPs demonstrating solidarity on #demonetization &amp;demanding that @PMOIndia address Parliame\n",
              "                                                                                                                                                    66\n",
              "RT @Hemant_80: Did you vote on #Demonetization on Modi survey app?                                                                                                                                                                                                                                  62\n",
              "RT @harshkkapoor: #DeMonetization survey results after 24 hours\\r\\n5Lacs opinions\\r\\nAmazing response&amp; Commitment in fight against Blackmoney\\r\\n@na\n",
              "                                                                                                                                           56\n",
              "RT @ShashiTharoor: . @anandkamal Frankly i don't understand why @narendramodi doesn't address Parlmnt on #Demonetization. It's his duty&amp;wil\n",
              "                                                                                                                                                    53\n",
              "RT @madskak: Before the Bypolls, this will decide #Demonetization of Modi !\\r\\n\\r\\nAfter the results, Bypolls has nothing to do with #Demonetizat\n",
              "                                                                                                                                                  46\n",
              "RT @ShirishKunder: \"Minor inconvenience\" for \"major convenience\" of Vijay Mallya and friends. #demonetization https://t.co/4RMD7Fpfaw                                                                                                                                                               45\n",
              "RT @Atheist_Krishna: The effect of #Demonetization !!\\r\\n. https://t.co/A8of7zh2f5                                                                                                                                                                                                                  43\n",
              "RT @barbarindian: #demonetization #bulletin \\r\\nSevere liquidity crisis continues. Dire shortage of 500. Reconfigured ATMs useless bcoz - 2000\n",
              "                                                                                                                                                     43\n",
              "RT @DrShobha: #Demonetization  taught me minimalism .\\r\\n\\r\\nLess stuff ! More happiness ! \\r\\n\\r\\nThank you Prime Minister @PMOIndia \\r\\n\\r\\n#Insights                                                                                                                                             43\n",
              "RT @Dipankar_cpiml: The Modi app on #DeMonetization proves once again that the govt is totally indifferent to the mounting misery and hards\n",
              "                                                                                                                                                        41\n",
              "RT @Ra_THORe: #Demonetization #IndiaFightsCorruption Immense courage needed to take such a momentous decision @arunjaitley @narendramodi @P\n",
              "                                                                                                                                                        40\n",
              "RT @DipendraDipzo: #Demonetization effect \\r\\nHere comes another batch of Maoists..\\r\\nKeep on watching - More to come\\r\\n#NoMoneyYaar https://t.co/\n",
              "                                                                                                                                               40\n",
              "RT @MinIT_Telangana: Telangana govt's innovative solution to help farmers affected due to #Demonetization: https://t.co/NVv7slCcpr                                                                                                                                                                  40\n",
              "RT @ModiBharosa: #RatanTata supports PM Narendra Modi for #Demonetization https://t.co/fRTHY2Ltth                                                                                                                                                                                                   40\n",
              "RT @kanimozhi: Ts is exactly what Pappu &amp; opposition has done to themselves by opposing #Demonetization Now none can stop Modi bandwagon ti\n",
              "                                                                                                                                                    37\n",
              "RT @Ra_THORe: #IndiaFightsCorruption The honest feel vindicated by the historic move on #Demonetization : @arunjaitley ji @ BJP Parliamenta\n",
              "                                                                                                                                                        35\n",
              "                                                                                                                                                                                                                                                                                                  ... \n",
              "With the initiative of #Demonetization, #LifeInsurance is indeed the need of the hour. Think wise, go ahead &amp; secur\n",
              " https://t.co/sc3fHi1BYz                                                                                                                                                     1\n",
              ".@kanimozhi #Demonetization is as popular as Indira's nationalization/confiscation of banks.                                                                                                                                                                                                         1\n",
              "PM Modi wants public poll on #demonetization on APP from a country whose internet penetration rate is just 34% #irony @ArvindKejriwal                                                                                                                                                                1\n",
              "now they are going out to meet people and socializing with out any work   #demonetization                                                                                                                                                                                                            1\n",
              "A fruit vendor from Kolkata supports the #Demonetization move by #NarendraModi @narendramodi @BJP4India https://t.co/GQstR94scO @bjpbengal                                                                                                                                                           1\n",
              "From Man Ki Baat  to Jan Ki Baat on #demonetization. On #ManKiBaat PM @narendramodi  supports #JanKiBaat and asks f\n",
              " https://t.co/VUQuXxHNPT                                                                                                                                                         1\n",
              "The March against #demonetization clearly shows, who all are most affected, where the most #blackmoney lies..                                                                                                                                                                                        1\n",
              "RT @AUTOTODAYMAG: On the topic of #demonetization, we have an idea what you can do with those old notes - go out, fill up &amp; explore! #Uncha\n",
              "                                                                                                                                                     1\n",
              "#Amul milk producers to get payment directly from the #banks | https://t.co/TVGb4puFSh @Amul_Coop #Demonetization\n",
              " https://t.co/cAUNPzayNI                                                                                                                                                           1\n",
              "#Demonetization: Paan shop owner gets 'fake' Rs 2,000 note in #Ahmedabad - https://t.co/0CFDWUx1mI https://t.co/N25EiUtfZX                                                                                                                                                                           1\n",
              "#RBI issued guidelines for 2.5 lakh withdrawal https://t.co/2im8CCLzIb #kashmirtelegraph #latestnews #banks #demonetization #kyc                                                                                                                                                                     1\n",
              "@ArvindKejriwal @MamataOfficial @office0ffRG @SitaramYechury Congrats you are getting international support in your fight #demonetization                                                                                                                                                            1\n",
              "#demonetization could doom Indian economy. \\r\\n<ed><U+00A0><U+00BC><ed><U+00B6><U+0098> <ed><U+00A0><U+00BC><ed><U+00B6><U+0098> <ed><U+00A0><U+00BC><ed><U+00B6><U+0098> <ed><U+00A0><U+00BC><ed><U+00B6><U+0098>                                                                                   1\n",
              "@narendramodi We should have at least 30 minutes to 1 hour session on news channels for what a #CommonMan should do in this #demonetization.                                                                                                                                                         1\n",
              "#Demonetization  How does it impact the common man? \\r\\nRead our views here - https://t.co/kFCVgGUcmd https://t.co/n5CjxRgCzr                                                                                                                                                                       1\n",
              "@Rohinisgh_ET Why is the tv media not showing the truth that people are accusing Modi's #DeMonetization in real life                                                                                                                                                                                 1\n",
              "#Govt announces slew of measures 2 ease #demonetization pain;no service charges fr #online #transactions till Dec 3\n",
              " https://t.co/cUf8hYRnrC                                                                                                                                                         1\n",
              "#RatanTata supports PM Narendra Modi for #Demonetization https://t.co/k1tRuxphrc                                                                                                                                                                                                                     1\n",
              "Though #demonetization pains, people have accepted it, so no dharnas or strikes.Then for what, Opposition is stalling the sessions???                                                                                                                                                                1\n",
              "A must read piece on #demonetization by @PritishNandy in today's @MumbaiMirror \"Fighting corruption? Right\"  https://t.co/dQT9w7wKKv                                                                                                                                                                 1\n",
              "Retweeted Dipankar. (@deep_anchor):\\r\\n\\r\\nIndia's Modi Didn't Do His Homework https://t.co/Nqdb0pVqGQ\\r\\n#Demonetization https://t.co/Yr6t7WgY9a                                                                                                                                                    1\n",
              "RT Hemant_80: Did you vote on #Demonetization on Modi survey app? A                                                                                                                                                                                                                                  1\n",
              "Slowly, but surely, more and more people in real life, and on Twitter, are beginning to oppose #demonetization. #Observation                                                                                                                                                                         1\n",
              "RT @profpaVarghese: #Demonetization won't bring lion's share of d black money from big fishes who own 2/3 of our wealth&amp;hold lacs of crs in\n",
              "                                                                                                                                                     1\n",
              "Central team visits #Telangana to assess situation in context of #demonetization.                                                                                                                                                                                                                    1\n",
              "#CashCrisis YATRA @CNNnews18 \\r\\nIf at ground zero citizen is helping citizen then which aam aadmi is affected by #Demonetization                                                                                                                                                                    1\n",
              "11/ @ArvindKejriwal On 8-Nov-2016 night PM announced #demonetization of Rs:500 and Rs:1000 notes &amp; shattered the economy.                                                                                                                                                                        1\n",
              "RT @absolutethinker: @csbhakuni @SPRE_Official especially in the current situation of #demonetization                                                                                                                                                                                                1\n",
              "RT @blue21sky: #PMSavedKashmir\\r\\ncuz of<ed><U+00A0><U+00BD><ed><U+00B9><U+008F> @narendramodi <ed><U+00A0><U+00BD><ed><U+00B9><U+008F> #demonetization  <ed><U+00A0><U+00BD><ed><U+00B1><U+0089>Barbadi done of\\r\\nPakistan\\r\\nStone Pelters\\r\\nPresstitutes \\r\\nSickular\\r\\nCorr\n",
              "                  1\n",
              "If Meena Kumari was Tragedy Queen then Narendra Modi is surely Drama King. #Demonetization                                                                                                                                                                                                           1\n",
              "Name: text, Length: 2544, dtype: int64"
            ]
          },
          "metadata": {
            "tags": []
          },
          "execution_count": 16
        }
      ]
    },
    {
      "cell_type": "code",
      "metadata": {
        "id": "y5DNSrm117t-",
        "colab_type": "code",
        "colab": {
          "base_uri": "https://localhost:8080/",
          "height": 117
        },
        "outputId": "0043e990-8b02-46e7-ca50-2f1fcfa993fe"
      },
      "source": [
        "#removing tweets using simple regex statements\n",
        "import re\n",
        "b=data[\"text\"].apply(lambda x:' '.join(re.sub(\"(@[A-Za-z0-9]+)|([^0-9A-Za-z \\t]) |(\\w+:\\/\\/\\S+)\", \" \",x)))\n",
        "b.iloc[:5]"
      ],
      "execution_count": 41,
      "outputs": [
        {
          "output_type": "execute_result",
          "data": {
            "text/plain": [
              "0    R T       C r i t i c a l   q u e s t i o n   ...\n",
              "1    R T     _ 8 0   D i d   y o u   v o t e   o n ...\n",
              "2    R T       F o r m e r   F i n S e c   R B I   ...\n",
              "3    R T     _ n e w s   G u r u g r a m   ( H a r ...\n",
              "4    R T       R e d d y   W e d d i n g     _ t o ...\n",
              "Name: text, dtype: object"
            ]
          },
          "metadata": {
            "tags": []
          },
          "execution_count": 41
        }
      ]
    },
    {
      "cell_type": "code",
      "metadata": {
        "id": "gOMRpuCG6e_E",
        "colab_type": "code",
        "colab": {
          "base_uri": "https://localhost:8080/",
          "height": 200
        },
        "outputId": "aab210dd-2f76-4a52-bff1-c3f527ba77c6"
      },
      "source": [
        "from textblob import TextBlob\n",
        "a=data[\"text\"].apply(lambda x: TextBlob(x).sentiment.polarity)\n",
        "a.iloc[:10]"
      ],
      "execution_count": 43,
      "outputs": [
        {
          "output_type": "execute_result",
          "data": {
            "text/plain": [
              "0    0.15\n",
              "1    0.00\n",
              "2    0.00\n",
              "3    0.00\n",
              "4    0.00\n",
              "5    0.00\n",
              "6    0.00\n",
              "7    0.00\n",
              "8    0.50\n",
              "9    0.00\n",
              "Name: text, dtype: float64"
            ]
          },
          "metadata": {
            "tags": []
          },
          "execution_count": 43
        }
      ]
    },
    {
      "cell_type": "code",
      "metadata": {
        "id": "PMLuKz2O9mIm",
        "colab_type": "code",
        "colab": {
          "base_uri": "https://localhost:8080/",
          "height": 200
        },
        "outputId": "823a7463-3028-438c-9f6d-350c320c0c51"
      },
      "source": [
        "def tweet(x):\n",
        "  if x>0:\n",
        "    return \"positive\"\n",
        "  elif x==0:\n",
        "    return \"neutral\"\n",
        "  else:\n",
        "    return \"negative\"\n",
        "c=a.apply(lambda x: tweet(x))\n",
        "c.iloc[:10]"
      ],
      "execution_count": 44,
      "outputs": [
        {
          "output_type": "execute_result",
          "data": {
            "text/plain": [
              "0    positive\n",
              "1     neutral\n",
              "2     neutral\n",
              "3     neutral\n",
              "4     neutral\n",
              "5     neutral\n",
              "6     neutral\n",
              "7     neutral\n",
              "8    positive\n",
              "9     neutral\n",
              "Name: text, dtype: object"
            ]
          },
          "metadata": {
            "tags": []
          },
          "execution_count": 44
        }
      ]
    },
    {
      "cell_type": "code",
      "metadata": {
        "id": "T8Q1H6BiJjRj",
        "colab_type": "code",
        "colab": {
          "base_uri": "https://localhost:8080/",
          "height": 220
        },
        "outputId": "60861003-d496-4b12-ea38-bc5f99458cd4"
      },
      "source": [
        "d=[]\n",
        "for i in range(0,8000):\n",
        "  if c.loc[i]==\"negative\":\n",
        "    d.append(b.loc[i])\n",
        "d[:10],len(d)  "
      ],
      "execution_count": 46,
      "outputs": [
        {
          "output_type": "execute_result",
          "data": {
            "text/plain": [
              "(['R T       W h e n   I   e x p l a i n e d   # D e m o n e t i z a t i o n   t o   m y s e l f   a n d   t r i e d   t o   p u t   i t   d o w n   i n   m y   w o r d s   w h i c h   a r e   n o t   l a c e d   w i t h   a n y   h e a v y   t e c h n i c a l \\x85',\n",
              "  'R T     _ k a u s i k   # D o l t i w a l   I   m e a n   # J a i C h a n d K e j r i w a l   i s   \" h u r t   b y   # D e m o n e t i z a t i o n   a s   t h e   s a m e   h a s   r e n d e r e d   U S E L E S S   < e d > < U + 0 0 A 0 > < U + 0 0 B D > < e d > < U + 0 0 B 1 > < U + 0 0 8 9   \" a c q u i r e d   f u n d s   N o   w o \\x85',\n",
              "  'R T     _ k a u s i k   # D o l t i w a l   I   m e a n   # J a i C h a n d K e j r i w a l   i s   \" h u r t   b y   # D e m o n e t i z a t i o n   a s   t h e   s a m e   h a s   r e n d e r e d   U S E L E S S   < e d > < U + 0 0 A 0 > < U + 0 0 B D > < e d > < U + 0 0 B 1 > < U + 0 0 8 9   \" a c q u i r e d   f u n d s   N o   w o \\x85',\n",
              "  'R T       # d e m o n e t i z a t i o n   i s   C o m m u n a l   a n d   B l a c k   M o n e y   i s   S e c u l a r . . .',\n",
              "  'R T     _ k a u s i k   # D o l t i w a l   I   m e a n   # J a i C h a n d K e j r i w a l   i s   \" h u r t   b y   # D e m o n e t i z a t i o n   a s   t h e   s a m e   h a s   r e n d e r e d   U S E L E S S   < e d > < U + 0 0 A 0 > < U + 0 0 B D > < e d > < U + 0 0 B 1 > < U + 0 0 8 9   \" a c q u i r e d   f u n d s   N o   w o \\x85',\n",
              "  \"R T   r o s h a n k a r   H a r v a r d ' s   L a r r y   S u m m e r s   c a l l s   # D e m o n e t i z a t i o n   a s   p o o r   p o l i c y   w i t h   d i s p r o p o r t i o n a t e   n e g a t i v e   i m p a c t   o    \",\n",
              "  \"R T       H a r v a r d ' s   L a r r y   S u m m e r s   c a l l s   # D e m o n e t i z a t i o n   a s   p o o r   p o l i c y   w i t h   d i s p r o p o r t i o n a t e   n e g a t i v e   i m p a c t   o n   p o o r / t r a d e . \\r \\n \\r \\n   \\x85\",\n",
              "  \"R T       # d e m o n e t i z a t i o n   e y e   o p e n e r   v i d e o   b t   i   d o u b t   a s   f e w   j u r n o s   d o n ' t   w a n t 2   h e a r   + v e   o f             \\x85\",\n",
              "  \"R T       I s   # M o d i S a r k a r   ' s   # a c h e d i n   c a m p a i g n   o n   # d e m o n e t i z a t i o n   a   # g o e b b e l s i a n   # m a s t e r s t r o k e   t h a t   t u r n s   b l i n d   e y e   t o   # G r o u n d Z e r o   s h o c k s ? \\x85\",\n",
              "  '# d e m o n e t i z a t i o n   i s   C o m m u n a l   a n d   B l a c k   M o n e y   i s   S e c u l a r . . .'],\n",
              " 1231)"
            ]
          },
          "metadata": {
            "tags": []
          },
          "execution_count": 46
        }
      ]
    }
  ]
}